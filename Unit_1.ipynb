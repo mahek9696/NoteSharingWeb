{
  "nbformat": 4,
  "nbformat_minor": 0,
  "metadata": {
    "colab": {
      "provenance": [],
      "authorship_tag": "ABX9TyMv7DKtZGJX9pCJgrlpOpaG",
      "include_colab_link": true
    },
    "kernelspec": {
      "name": "python3",
      "display_name": "Python 3"
    },
    "language_info": {
      "name": "python"
    }
  },
  "cells": [
    {
      "cell_type": "markdown",
      "metadata": {
        "id": "view-in-github",
        "colab_type": "text"
      },
      "source": [
        "<a href=\"https://colab.research.google.com/github/mahek9696/NoteSharingWeb/blob/master/Unit_1.ipynb\" target=\"_parent\"><img src=\"https://colab.research.google.com/assets/colab-badge.svg\" alt=\"Open In Colab\"/></a>"
      ]
    },
    {
      "cell_type": "code",
      "execution_count": null,
      "metadata": {
        "colab": {
          "base_uri": "https://localhost:8080/"
        },
        "id": "UItcdXHOLHkK",
        "outputId": "a49d7524-ec0b-4477-e753-4b9848bcd921"
      },
      "outputs": [
        {
          "output_type": "stream",
          "name": "stdout",
          "text": [
            "Enter Your Roll No : cmsw23\n",
            "Yes ! , This student belong from \"Computer Science\" Stream \n"
          ]
        }
      ],
      "source": [
        "# 6   Accept the s from student And check weather the student belong from Computer Science Strem\n",
        "s = input(\"Enter Your Roll No : \")\n",
        "f1 = 0\n",
        "for i in s:\n",
        "  if i == 'c' or i == 'C':\n",
        "    f1 = f1 + 1\n",
        "  elif i == 's' or i == 'S':\n",
        "    f1 = f1 + 1\n",
        "if f1 == 2:\n",
        "  print(\"Yes ! , This student belong from \\\"Computer Science\\\" Stream \")"
      ]
    },
    {
      "cell_type": "code",
      "source": [
        "# 8   Find out pass % of class\n",
        "n = int(input(\"Enter no. of Student : \"))\n",
        "sum = 0\n",
        "count = 0\n",
        "for i in range(n):\n",
        "  marks = int(input(\"Enter Marks of Roll No.\"+str(i+1) + \" : \"))\n",
        "  if marks > 40 :\n",
        "    count = count + 1\n",
        "  result = (count / n)*100\n",
        "print(\"Result of Class is : \",result)"
      ],
      "metadata": {
        "colab": {
          "base_uri": "https://localhost:8080/"
        },
        "id": "Nvtrdh8oMl_h",
        "outputId": "83b7cacb-fdab-4a57-baeb-d574e72960e8"
      },
      "execution_count": null,
      "outputs": [
        {
          "output_type": "stream",
          "name": "stdout",
          "text": [
            "Enter no. of Student : 5\n",
            "Enter Marks of Roll No.1 : 90\n",
            "Enter Marks of Roll No.2 : 80\n",
            "Enter Marks of Roll No.3 : 60\n",
            "Enter Marks of Roll No.4 : 23\n",
            "Enter Marks of Roll No.5 : 25\n",
            "Result of Class is :  60.0\n"
          ]
        }
      ]
    },
    {
      "cell_type": "code",
      "source": [
        "# 4 Word shuffle using string manipulation\n",
        "\n",
        "s = input(\"Enter String : \")\n",
        "l = s.split()\n",
        "#print(l)\n",
        "#type(l)\n",
        "l1 = l[0:len(l):2]\n",
        "l2 = l[1:len(l):2]\n",
        "l3 = l2[::-1] + l1[::-1]\n",
        "#l3 = l1[::-1] + l2[::-1]\n",
        "s1 = ' '.join(l3)\n",
        "print(\"\\n\\n Shuffled String of given String is :\\n\")\n",
        "print(s1)"
      ],
      "metadata": {
        "colab": {
          "base_uri": "https://localhost:8080/"
        },
        "id": "LkU9zsmzn-r0",
        "outputId": "e2b3b92f-4b35-4306-e845-59241229f2d9"
      },
      "execution_count": null,
      "outputs": [
        {
          "output_type": "stream",
          "name": "stdout",
          "text": [
            "Enter String : i m student in GVP of Computer Science Department\n",
            "\n",
            "\n",
            " Shuffled String of given String is :\n",
            "\n",
            "Science of in m Department Computer GVP student i\n"
          ]
        }
      ]
    },
    {
      "cell_type": "code",
      "source": [
        "# 9 Print Fibonacci Series\n",
        "\n",
        "n = int(input(\"Enter no. till u want Fibonacci Series : \"))\n",
        "a = 0\n",
        "b = 1\n",
        "print(a)\n",
        "print(b)\n",
        "for i in range(n):\n",
        "  c = a + b\n",
        "  a = b\n",
        "  b = c\n",
        "  print(c)"
      ],
      "metadata": {
        "colab": {
          "base_uri": "https://localhost:8080/"
        },
        "id": "kmAfSK2Toyuu",
        "outputId": "9572a04c-48f2-4636-f252-0522c21f480a"
      },
      "execution_count": null,
      "outputs": [
        {
          "output_type": "stream",
          "name": "stdout",
          "text": [
            "Enter no. till u want Fibonacci Series : 5\n",
            "0\n",
            "1\n",
            "1\n",
            "2\n",
            "3\n",
            "5\n",
            "8\n"
          ]
        }
      ]
    },
    {
      "cell_type": "code",
      "source": [
        "# 10    Collatz Sequence\n",
        "\n",
        "n = int(input())\n",
        "\n",
        "while n != 1:\n",
        "  if n % 2 == 0:\n",
        "    n = int(n / 2)\n",
        "    print(n)\n",
        "\n",
        "  else:\n",
        "    n = (n * 3) + 1\n",
        "    print(n)\n"
      ],
      "metadata": {
        "colab": {
          "base_uri": "https://localhost:8080/"
        },
        "id": "PoWAIEYBzhWK",
        "outputId": "5a993e09-61d4-457e-dd98-cf3bd7b77fb3"
      },
      "execution_count": null,
      "outputs": [
        {
          "output_type": "stream",
          "name": "stdout",
          "text": [
            "7\n",
            "22\n",
            "11\n",
            "34\n",
            "17\n",
            "52\n",
            "26\n",
            "13\n",
            "40\n",
            "20\n",
            "10\n",
            "5\n",
            "16\n",
            "8\n",
            "4\n",
            "2\n",
            "1\n"
          ]
        }
      ]
    },
    {
      "cell_type": "code",
      "source": [
        "#\n",
        "Birthday = {\"Mahek\": \"01/06/2003\",\n",
        "            \"Krisha\": \"01/07/2003\",\n",
        "            \"Dhruvi\": \"01/08/2005\"\n",
        "            }\n",
        "#print(Birthday.values(3:5))\n",
        "\n",
        "m = input()\n",
        "for i,j in Birthday.items():\n",
        "  if j[3:5] == m:\n",
        "    print(i)\n"
      ],
      "metadata": {
        "id": "NgdUu5g2ABBr",
        "colab": {
          "base_uri": "https://localhost:8080/"
        },
        "outputId": "404fa38c-bb9b-42d4-81e1-42fa86ad5b15"
      },
      "execution_count": null,
      "outputs": [
        {
          "output_type": "stream",
          "name": "stdout",
          "text": [
            "06\n",
            "Mahek\n"
          ]
        }
      ]
    },
    {
      "cell_type": "code",
      "source": [
        "price=int(input(\"PRICE: \"))\n",
        "deno1, deno2, deno3 = map(int, input(\"denominations: \").split())\n",
        "print(\"can you form\", price, \"exactly using\", deno1, deno2, deno3, \"?\")\n",
        "\n",
        "for d1 in range(0, 1+price // deno1):\n",
        "  for d2 in range(0, 1+price // deno2):\n",
        "    for d3 in range(0, 1+price // deno3):\n",
        "      if d1*deno1+d2*deno2+d3*deno3 == price:\n",
        "        print(d1, d2, d3, end=\", \")\n",
        "else:\n",
        "  print(\"no\")"
      ],
      "metadata": {
        "colab": {
          "base_uri": "https://localhost:8080/"
        },
        "id": "gddMNDsUKoAu",
        "outputId": "0f360898-d191-45e0-9eef-2219df010136"
      },
      "execution_count": null,
      "outputs": [
        {
          "output_type": "stream",
          "name": "stdout",
          "text": [
            "PRICE: 550\n",
            "denominations: 10 50 100\n",
            "can you form 550 exactly using 10 50 100 ?\n",
            "0 1 5, 0 3 4, 0 5 3, 0 7 2, 0 9 1, 0 11 0, 5 0 5, 5 2 4, 5 4 3, 5 6 2, 5 8 1, 5 10 0, 10 1 4, 10 3 3, 10 5 2, 10 7 1, 10 9 0, 15 0 4, 15 2 3, 15 4 2, 15 6 1, 15 8 0, 20 1 3, 20 3 2, 20 5 1, 20 7 0, 25 0 3, 25 2 2, 25 4 1, 25 6 0, 30 1 2, 30 3 1, 30 5 0, 35 0 2, 35 2 1, 35 4 0, 40 1 1, 40 3 0, 45 0 1, 45 2 0, 50 1 0, 55 0 0, no\n"
          ]
        }
      ]
    },
    {
      "cell_type": "markdown",
      "source": [
        "price=int(input(\"PRICE: \"))\n",
        "deno1 = int(input(\"Enter denominations1: \"))\n",
        "deno2 = int(input(\"Enter denominations2: \"))\n",
        "deno3 = int(input(\"Enter denominations3: \"))\n"
      ],
      "metadata": {
        "id": "4SqAAUK0N7g9"
      }
    },
    {
      "cell_type": "code",
      "source": [
        "price=int(input(\"PRICE: \"))\n",
        "deno1 = int(input(\"Enter coin1: \"))\n",
        "deno2 = int(input(\"Enter coin2: \"))\n",
        "deno3 = int(input(\"Enter coin3: \"))\n",
        "\n",
        "for d1 in range(0, (price // deno1) + 1):\n",
        "  for d2 in range(0, (price // deno2) + 1):\n",
        "    for d3 in range(0, (price // deno3) + 1):\n",
        "      if d1*deno1+d2*deno2+d3*deno3 == price:\n",
        "        #print(d1, d2, d3, end=\", \")\n",
        "        print(d1, d2, d3)\n",
        "else:\n",
        "  print(\"No match for given price.\")"
      ],
      "metadata": {
        "colab": {
          "base_uri": "https://localhost:8080/"
        },
        "id": "_2f-Ry0IUL0S",
        "outputId": "c6017070-fcd0-4c3e-e7d0-3a479bc03379"
      },
      "execution_count": 3,
      "outputs": [
        {
          "output_type": "stream",
          "name": "stdout",
          "text": [
            "PRICE: 55\n",
            "Enter coin1: 1\n",
            "Enter coin2: 5\n",
            "Enter coin3: 10\n",
            "0 1 5\n",
            "0 3 4\n",
            "0 5 3\n",
            "0 7 2\n",
            "0 9 1\n",
            "0 11 0\n",
            "5 0 5\n",
            "5 2 4\n",
            "5 4 3\n",
            "5 6 2\n",
            "5 8 1\n",
            "5 10 0\n",
            "10 1 4\n",
            "10 3 3\n",
            "10 5 2\n",
            "10 7 1\n",
            "10 9 0\n",
            "15 0 4\n",
            "15 2 3\n",
            "15 4 2\n",
            "15 6 1\n",
            "15 8 0\n",
            "20 1 3\n",
            "20 3 2\n",
            "20 5 1\n",
            "20 7 0\n",
            "25 0 3\n",
            "25 2 2\n",
            "25 4 1\n",
            "25 6 0\n",
            "30 1 2\n",
            "30 3 1\n",
            "30 5 0\n",
            "35 0 2\n",
            "35 2 1\n",
            "35 4 0\n",
            "40 1 1\n",
            "40 3 0\n",
            "45 0 1\n",
            "45 2 0\n",
            "50 1 0\n",
            "55 0 0\n",
            "No match for given price.\n"
          ]
        }
      ]
    },
    {
      "cell_type": "code",
      "source": [
        "#  11  Primality testing : Given a positive integer, check if the number is prime or Not\n",
        "n = int(input(\"Enter no to check whether no. is prime or not :\"))\n",
        "for i in range(2,n):\n",
        "  if( i % 2 == 0):\n",
        "    print(\"Entered no. not a Prime No. !  \")\n",
        "\n",
        "else:\n",
        "  print(\"No. is prime !!!! \")"
      ],
      "metadata": {
        "colab": {
          "base_uri": "https://localhost:8080/"
        },
        "id": "wKXi8ENsQkcT",
        "outputId": "c098b2df-a2ca-4672-c7a3-b84453dfe0e6"
      },
      "execution_count": 1,
      "outputs": [
        {
          "output_type": "stream",
          "name": "stdout",
          "text": [
            "Enter no to check whether no. is prime or not :13\n",
            "Entered no. not a Prime No. !  \n",
            "Entered no. not a Prime No. !  \n",
            "Entered no. not a Prime No. !  \n",
            "Entered no. not a Prime No. !  \n",
            "Entered no. not a Prime No. !  \n",
            "Entered no. not a Prime No. !  \n",
            "No. is prime !!!! \n"
          ]
        }
      ]
    }
  ]
}